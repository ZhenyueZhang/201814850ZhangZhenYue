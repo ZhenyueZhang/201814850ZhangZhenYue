{
 "cells": [
  {
   "cell_type": "code",
   "execution_count": 1,
   "metadata": {},
   "outputs": [],
   "source": [
    "from nltk.corpus import stopwords\n",
    "import json\n",
    "import re\n",
    "import nltk\n",
    "from sklearn.feature_extraction.text import CountVectorizer\n",
    "from sklearn.feature_extraction.text import TfidfTransformer\n",
    "from sklearn.cluster import KMeans\n",
    "from sklearn import metrics\n",
    "from sklearn.cluster import AffinityPropagation\n",
    "from sklearn.datasets.samples_generator import make_blobs\n",
    "from sklearn.cluster import MeanShift, estimate_bandwidth\n",
    "import numpy as np\n",
    "from sklearn.cluster import SpectralClustering\n",
    "from sklearn.cluster import AgglomerativeClustering\n",
    "from sklearn.mixture import GaussianMixture\n",
    "from sklearn.cluster import DBSCAN\n",
    "\n",
    "def readIn(path):\n",
    "    #读入数据并得到key-value的文本以及所属类的形式\n",
    "    f = open(path)\n",
    "    line = f.readline()\n",
    "    all_text = {}\n",
    "    class_number = []\n",
    "    while line:\n",
    "        # print(line)\n",
    "        my_dict = json.loads(line)\n",
    "        key = my_dict['text']\n",
    "        value = my_dict['cluster']\n",
    "        all_text[key] = value\n",
    "        class_number.append(value)\n",
    "        line = f.readline()\n",
    "    return all_text,len(set(class_number))\n",
    "\n",
    "def getTFIDF(path):\n",
    "    #处理得到tf-idf矩阵\n",
    "    all_text, number_of_class = readIn(path)\n",
    "    class_number = []\n",
    "    text_list = []\n",
    "    for k, v in all_text.items():\n",
    "        text_list.append(k)\n",
    "        class_number.append(v)\n",
    "    # 将文本中的词语转换为词频矩阵\n",
    "    vectorizer = CountVectorizer()\n",
    "    # 计算个词语出现的次数\n",
    "    X = vectorizer.fit_transform(text_list)\n",
    "    # 获取词袋中所有文本关键词\n",
    "    word = vectorizer.get_feature_names()\n",
    "    transformer = TfidfTransformer()\n",
    "    # 将词频矩阵X统计成TF-IDF值\n",
    "    tf_idf_matrix = transformer.fit_transform(X)\n",
    "    return tf_idf_matrix,number_of_class,class_number\n",
    "\n",
    "def getNMI(method,res,class_number):\n",
    "    nmi = metrics.normalized_mutual_info_score(res, class_number)\n",
    "    print(\"Method: \",method)\n",
    "    print(\"NMI: \",nmi)\n"
   ]
  },
  {
   "cell_type": "code",
   "execution_count": 12,
   "metadata": {},
   "outputs": [],
   "source": [
    "def kmeansClustering(tf_idf_matrix,num_clusters,class_number):\n",
    "    km_cluster = KMeans(n_clusters=num_clusters, max_iter=300, n_init=40, init='k-means++')\n",
    "    # 返回各自文本的所被分配到的类索引\n",
    "    res = km_cluster.fit_predict(tf_idf_matrix)\n",
    "    getNMI(\"K-Means\",res,class_number)\n",
    "    print(\"The number of clusters: \",num_clusters)\n",
    "\n",
    "def affinityPropagationClustering(tf_idf_matrix,class_number):\n",
    "    af = AffinityPropagation(affinity='euclidean', preference=-29).fit(tf_idf_matrix)  # preference越小聚类数目越少\n",
    "    res = af.fit_predict(tf_idf_matrix)\n",
    "    cluster_centers_indices = af.cluster_centers_indices_\n",
    "    num_clusters = len(cluster_centers_indices)\n",
    "    getNMI(\"Affinity propagation\",res,class_number)\n",
    "    print(\"The number of clusters: \", num_clusters)\n",
    "\n",
    "def meanShiftClustering(tf_idf_matrix,class_number):\n",
    "    ms = MeanShift(bandwidth=0.67, bin_seeding=True)  # 3.2\n",
    "    ms.fit_predict(tf_idf_matrix.toarray())\n",
    "    res = ms.labels_\n",
    "    cluster_centers = ms.cluster_centers_\n",
    "    num_clusters = len(cluster_centers)\n",
    "    getNMI(\"MeanShift\",res,class_number)\n",
    "    print(\"The number of clusters: \", num_clusters)\n",
    "\n",
    "def spectralClustering(tf_idf_matrix,num_clusters,class_number):\n",
    "    sc = SpectralClustering(n_clusters=num_clusters)\n",
    "    res = sc.fit_predict(tf_idf_matrix)\n",
    "    getNMI(\"Spectral clustering\",res,class_number)\n",
    "    print(\"The number of clusters: \",num_clusters)\n",
    "\n",
    "def agglomerativeClustering(tf_idf_matrix,num_clusters,class_number):\n",
    "    ac = AgglomerativeClustering(n_clusters=num_clusters, affinity='euclidean', linkage='ward')\n",
    "    res = ac.fit_predict(tf_idf_matrix.todense())\n",
    "    getNMI(\"Agglomerative ward clustering\",res,class_number)\n",
    "    print(\"The number of clusters: \",num_clusters)\n",
    "\n",
    "def agglomerativeComplete(tf_idf_matrix,num_clusters,class_number):\n",
    "    ac = AgglomerativeClustering(n_clusters=num_clusters, affinity='euclidean', linkage='complete')\n",
    "    res = ac.fit_predict(tf_idf_matrix.todense())\n",
    "    getNMI(\"Agglomerative complete clustering\",res,class_number)\n",
    "    print(\"The number of clusters: \",num_clusters)\n",
    "\n",
    "def agglomerativeAverage(tf_idf_matrix,num_clusters,class_number):\n",
    "    ac = AgglomerativeClustering(n_clusters=num_clusters, affinity='euclidean', linkage='average')\n",
    "    res = ac.fit_predict(tf_idf_matrix.todense())\n",
    "    getNMI(\"Agglomerative average clustering\",res,class_number)\n",
    "    print(\"The number of clusters: \",num_clusters)\n",
    "\n",
    "def DBSCANClustering(tf_idf_matrix,class_number):\n",
    "    db = DBSCAN(eps=1.1, min_samples=3)\n",
    "    res = db.fit_predict(tf_idf_matrix.toarray())\n",
    "    getNMI(\"DBSCAN\",res,class_number)\n",
    "    num_clusters =len(set(db.labels_))\n",
    "    print(\"The number of clusters: \", num_clusters)\n",
    "\n",
    "def gaussianMixtureClustering(tf_idf_matrix,num_clusters,class_number):\n",
    "    gm = GaussianMixture(n_components=num_clusters, covariance_type='diag', max_iter=200, random_state=0)\n",
    "    gm.fit(tf_idf_matrix.toarray())\n",
    "    res = gm.predict(tf_idf_matrix.toarray())\n",
    "    getNMI(\"Agglomerative clustering\",res,class_number)\n",
    "    print(\"The number of clusters: \",num_clusters)\n"
   ]
  },
  {
   "cell_type": "code",
   "execution_count": 3,
   "metadata": {},
   "outputs": [
    {
     "name": "stdout",
     "output_type": "stream",
     "text": [
      "Method:  K-Means\n",
      "NMI:  0.7838421824568943\n",
      "The number of clusters:  89\n"
     ]
    }
   ],
   "source": [
    "path = \"C:\\data\\Tweets.txt\"\n",
    "tf_idf_matrix,num_clusters,class_number = getTFIDF(path)\n",
    "kmeansClustering(tf_idf_matrix,num_clusters,class_number)"
   ]
  },
  {
   "cell_type": "code",
   "execution_count": 4,
   "metadata": {},
   "outputs": [
    {
     "name": "stdout",
     "output_type": "stream",
     "text": [
      "Method:  MeanShift\n",
      "NMI:  0.7447674084878678\n",
      "The number of clusters:  766\n"
     ]
    }
   ],
   "source": [
    "meanShiftClustering(tf_idf_matrix,class_number)"
   ]
  },
  {
   "cell_type": "code",
   "execution_count": 5,
   "metadata": {},
   "outputs": [
    {
     "name": "stdout",
     "output_type": "stream",
     "text": [
      "Method:  Spectral clustering\n",
      "NMI:  0.6857434036548256\n",
      "The number of clusters:  89\n"
     ]
    }
   ],
   "source": [
    "spectralClustering(tf_idf_matrix,num_clusters,class_number)"
   ]
  },
  {
   "cell_type": "code",
   "execution_count": 6,
   "metadata": {},
   "outputs": [
    {
     "name": "stdout",
     "output_type": "stream",
     "text": [
      "Method:  Agglomerative ward clustering\n",
      "NMI:  0.7781269325429298\n",
      "The number of clusters:  89\n"
     ]
    }
   ],
   "source": [
    "agglomerativeClustering(tf_idf_matrix, num_clusters, class_number)"
   ]
  },
  {
   "cell_type": "code",
   "execution_count": 7,
   "metadata": {},
   "outputs": [
    {
     "name": "stdout",
     "output_type": "stream",
     "text": [
      "Method:  Agglomerative complete clustering\n",
      "NMI:  0.7407081522406764\n",
      "The number of clusters:  89\n"
     ]
    }
   ],
   "source": [
    "agglomerativeComplete(tf_idf_matrix, num_clusters, class_number)"
   ]
  },
  {
   "cell_type": "code",
   "execution_count": 8,
   "metadata": {},
   "outputs": [
    {
     "name": "stdout",
     "output_type": "stream",
     "text": [
      "Method:  Agglomerative average clustering\n",
      "NMI:  0.896435939086258\n",
      "The number of clusters:  89\n"
     ]
    }
   ],
   "source": [
    "agglomerativeAverage(tf_idf_matrix,num_clusters,class_number)"
   ]
  },
  {
   "cell_type": "code",
   "execution_count": 10,
   "metadata": {},
   "outputs": [
    {
     "name": "stdout",
     "output_type": "stream",
     "text": [
      "Method:  DBSCAN\n",
      "NMI:  0.6332241235502418\n",
      "The number of clusters:  95\n"
     ]
    }
   ],
   "source": [
    "DBSCANClustering(tf_idf_matrix,class_number)"
   ]
  },
  {
   "cell_type": "code",
   "execution_count": 11,
   "metadata": {},
   "outputs": [
    {
     "name": "stdout",
     "output_type": "stream",
     "text": [
      "Method:  Agglomerative clustering\n",
      "NMI:  0.7831393415003935\n",
      "The number of clusters:  89\n"
     ]
    }
   ],
   "source": [
    "gaussianMixtureClustering(tf_idf_matrix,num_clusters,class_number)"
   ]
  },
  {
   "cell_type": "code",
   "execution_count": null,
   "metadata": {},
   "outputs": [],
   "source": [
    "affinityPropagationClustering(tf_idf_matrix,class_number)"
   ]
  }
 ],
 "metadata": {
  "kernelspec": {
   "display_name": "Python 3",
   "language": "python",
   "name": "python3"
  },
  "language_info": {
   "codemirror_mode": {
    "name": "ipython",
    "version": 3
   },
   "file_extension": ".py",
   "mimetype": "text/x-python",
   "name": "python",
   "nbconvert_exporter": "python",
   "pygments_lexer": "ipython3",
   "version": "3.6.5"
  }
 },
 "nbformat": 4,
 "nbformat_minor": 2
}
